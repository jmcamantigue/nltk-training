{
  "nbformat": 4,
  "nbformat_minor": 0,
  "metadata": {
    "colab": {
      "name": "0-introduction-to-python.ipynb",
      "version": "0.3.2",
      "provenance": [],
      "collapsed_sections": []
    },
    "kernelspec": {
      "name": "python3",
      "display_name": "Python 3"
    },
    "accelerator": "GPU"
  },
  "cells": [
    {
      "metadata": {
        "id": "KrSi2e4eaCRX",
        "colab_type": "code",
        "colab": {
          "base_uri": "https://localhost:8080/",
          "height": 153
        },
        "outputId": "2171c973-ab6c-4ba9-880b-5d85a89d8327"
      },
      "cell_type": "code",
      "source": [
        "import numpy as np\n",
        "x = np.array([1,2,3])\n",
        "x1 = np.array([4,3,2])\n",
        "\n",
        "a = np.zeros((2, 2))\n",
        "b = np.zeros((2, 2))\n",
        "\n",
        "c = np.random.randint(10, size=(5))\n",
        "d = np.random.randint(10, size=(5))\n",
        "\n",
        "f1 = np.random.random((2, 2))\n",
        "\n",
        "print(x-x1)\n",
        "print(a-b)\n",
        "print(np.dot(x, x1))\n",
        "print(np.argmax(x1))\n",
        "\n",
        "for n in x:\n",
        "  print(n, end='-')\n",
        "\n",
        "\n",
        "print(a.dtype)\n",
        "print(np.argmax(f1))\n",
        "print(np.sum(a))"
      ],
      "execution_count": 29,
      "outputs": [
        {
          "output_type": "stream",
          "text": [
            "[-3 -1  1]\n",
            "[[0. 0.]\n",
            " [0. 0.]]\n",
            "16\n",
            "0\n",
            "1-2-3-float64\n",
            "3\n",
            "0.0\n"
          ],
          "name": "stdout"
        }
      ]
    },
    {
      "metadata": {
        "id": "s83jlCZmjYvm",
        "colab_type": "code",
        "colab": {}
      },
      "cell_type": "code",
      "source": [
        "#Relational Operation"
      ],
      "execution_count": 0,
      "outputs": []
    },
    {
      "metadata": {
        "id": "i_vsq5Jgjkl9",
        "colab_type": "code",
        "colab": {}
      },
      "cell_type": "code",
      "source": [
        ""
      ],
      "execution_count": 0,
      "outputs": []
    }
  ]
}