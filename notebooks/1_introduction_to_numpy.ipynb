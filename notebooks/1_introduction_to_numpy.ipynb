{
  "nbformat": 4,
  "nbformat_minor": 0,
  "metadata": {
    "colab": {
      "name": "1-introduction-to-numpy.ipynb",
      "version": "0.3.2",
      "provenance": [],
      "collapsed_sections": []
    },
    "kernelspec": {
      "name": "python3",
      "display_name": "Python 3"
    }
  },
  "cells": [
    {
      "metadata": {
        "id": "BVTQLdACkEz1",
        "colab_type": "code",
        "colab": {
          "base_uri": "https://localhost:8080/",
          "height": 187
        },
        "outputId": "244e2104-da84-4816-e3c1-369d673b8496"
      },
      "cell_type": "code",
      "source": [
        "import numpy as np\n",
        "a = np.asmatrix([[22,5,16,9],[13,20,19,0],[5,9,1,16],[27,13,15,19]])\n",
        "b = np.asmatrix([[10,5,20,20], [5,21,22,27], [26,19,22,3], [27,8,18,7]])\n",
        "c = np.array([24, 3, 17, 7, 11, 2, 21, 2, 24, 18, 3, 11, 14, 25, 2, 20])\n",
        "d = np.array([3, 15, 24, 22, 19, 24, 4, 29, 6, 3, 20, 1, 11, 25, 26, 6])\n",
        "#\n",
        "print(a)\n",
        "print(b)\n",
        "print(c)\n",
        "print(d)\n"
      ],
      "execution_count": 46,
      "outputs": [
        {
          "output_type": "stream",
          "text": [
            "[[22  5 16  9]\n",
            " [13 20 19  0]\n",
            " [ 5  9  1 16]\n",
            " [27 13 15 19]]\n",
            "[[10  5 20 20]\n",
            " [ 5 21 22 27]\n",
            " [26 19 22  3]\n",
            " [27  8 18  7]]\n",
            "[24  3 17  7 11  2 21  2 24 18  3 11 14 25  2 20]\n",
            "[ 3 15 24 22 19 24  4 29  6  3 20  1 11 25 26  6]\n"
          ],
          "name": "stdout"
        }
      ]
    },
    {
      "metadata": {
        "id": "ByeEHxTdlhsh",
        "colab_type": "code",
        "colab": {
          "base_uri": "https://localhost:8080/",
          "height": 85
        },
        "outputId": "84e552d6-195b-46d5-e00e-58f3b6c3faf2"
      },
      "cell_type": "code",
      "source": [
        "#1 addition\n",
        "print(a + b)"
      ],
      "execution_count": 36,
      "outputs": [
        {
          "output_type": "stream",
          "text": [
            "[[32 10 36 29]\n",
            " [18 41 41 27]\n",
            " [31 28 23 19]\n",
            " [54 21 33 26]]\n"
          ],
          "name": "stdout"
        }
      ]
    },
    {
      "metadata": {
        "id": "rS-NQ0U8l_DB",
        "colab_type": "code",
        "colab": {
          "base_uri": "https://localhost:8080/",
          "height": 85
        },
        "outputId": "09203636-3ce0-4aff-b5c3-14cea5ec881d"
      },
      "cell_type": "code",
      "source": [
        "#2 substraction\n",
        "print(a-b)"
      ],
      "execution_count": 10,
      "outputs": [
        {
          "output_type": "stream",
          "text": [
            "[[ 12   0  -4 -11]\n",
            " [  8  -1  -3 -27]\n",
            " [-21 -10 -21  13]\n",
            " [  0   5  -3  12]]\n"
          ],
          "name": "stdout"
        }
      ]
    },
    {
      "metadata": {
        "id": "uuWj4AB_mGm6",
        "colab_type": "code",
        "colab": {
          "base_uri": "https://localhost:8080/",
          "height": 85
        },
        "outputId": "aeab947f-47da-437e-ba5e-29d2ebe99105"
      },
      "cell_type": "code",
      "source": [
        "#3 multiplication\n",
        "print(a * b)"
      ],
      "execution_count": 17,
      "outputs": [
        {
          "output_type": "stream",
          "text": [
            "[[ 904  591 1064  686]\n",
            " [ 724  846 1118  857]\n",
            " [ 553  361  608  458]\n",
            " [1238  845 1498 1069]]\n"
          ],
          "name": "stdout"
        }
      ]
    },
    {
      "metadata": {
        "id": "xfvh10NOm65f",
        "colab_type": "code",
        "colab": {
          "base_uri": "https://localhost:8080/",
          "height": 85
        },
        "outputId": "7d376fa7-42a9-4cce-bb9d-901276fe8cc4"
      },
      "cell_type": "code",
      "source": [
        "#4 multiplication\n",
        "print(np.dot(a, b))"
      ],
      "execution_count": 37,
      "outputs": [
        {
          "output_type": "stream",
          "text": [
            "[[ 904  591 1064  686]\n",
            " [ 724  846 1118  857]\n",
            " [ 553  361  608  458]\n",
            " [1238  845 1498 1069]]\n"
          ],
          "name": "stdout"
        }
      ]
    },
    {
      "metadata": {
        "id": "hnIQZhKOnOBX",
        "colab_type": "code",
        "colab": {
          "base_uri": "https://localhost:8080/",
          "height": 34
        },
        "outputId": "06d2e426-6e51-43a4-b5f9-94f9d22fe023"
      },
      "cell_type": "code",
      "source": [
        "#5\n",
        "print(c+d)"
      ],
      "execution_count": 21,
      "outputs": [
        {
          "output_type": "stream",
          "text": [
            "[27 18 41 29 30 26 25 31 30 21 23 12 25 50 28 26]\n"
          ],
          "name": "stdout"
        }
      ]
    },
    {
      "metadata": {
        "id": "DHFmmtLgnTNu",
        "colab_type": "code",
        "colab": {
          "base_uri": "https://localhost:8080/",
          "height": 34
        },
        "outputId": "826d8e0f-3659-4b43-94ff-4ed6ec6712cc"
      },
      "cell_type": "code",
      "source": [
        "#6\n",
        "print(c-d)"
      ],
      "execution_count": 23,
      "outputs": [
        {
          "output_type": "stream",
          "text": [
            "[ 21 -12  -7 -15  -8 -22  17 -27  18  15 -17  10   3   0 -24  14]\n"
          ],
          "name": "stdout"
        }
      ]
    },
    {
      "metadata": {
        "id": "kCG0A1LFneQR",
        "colab_type": "code",
        "colab": {
          "base_uri": "https://localhost:8080/",
          "height": 34
        },
        "outputId": "a76fd3a3-4b0e-4c09-d1ce-4baca47da321"
      },
      "cell_type": "code",
      "source": [
        "#7\n",
        "print(c*d)"
      ],
      "execution_count": 25,
      "outputs": [
        {
          "output_type": "stream",
          "text": [
            "[ 72  45 408 154 209  48  84  58 144  54  60  11 154 625  52 120]\n"
          ],
          "name": "stdout"
        }
      ]
    },
    {
      "metadata": {
        "id": "VUEiAuoEniRr",
        "colab_type": "code",
        "colab": {
          "base_uri": "https://localhost:8080/",
          "height": 34
        },
        "outputId": "ea21eb17-90c2-446a-83c0-d019e9777f7e"
      },
      "cell_type": "code",
      "source": [
        "#8\n",
        "print(np.dot(c, d))"
      ],
      "execution_count": 27,
      "outputs": [
        {
          "output_type": "stream",
          "text": [
            "2298\n"
          ],
          "name": "stdout"
        }
      ]
    },
    {
      "metadata": {
        "id": "P38YSsF4npoh",
        "colab_type": "code",
        "colab": {
          "base_uri": "https://localhost:8080/",
          "height": 85
        },
        "outputId": "dbcf3103-b8c1-4fb8-bbde-d3500e323ee6"
      },
      "cell_type": "code",
      "source": [
        "#9\n",
        "print(a+10)"
      ],
      "execution_count": 29,
      "outputs": [
        {
          "output_type": "stream",
          "text": [
            "[[32 15 26 19]\n",
            " [23 30 29 10]\n",
            " [15 19 11 26]\n",
            " [37 23 25 29]]\n"
          ],
          "name": "stdout"
        }
      ]
    },
    {
      "metadata": {
        "id": "08voseSjnwVr",
        "colab_type": "code",
        "colab": {
          "base_uri": "https://localhost:8080/",
          "height": 85
        },
        "outputId": "e434b130-d2fd-4fa4-d6f4-c1f9253e2cd2"
      },
      "cell_type": "code",
      "source": [
        "#10\n",
        "print(b+10)"
      ],
      "execution_count": 30,
      "outputs": [
        {
          "output_type": "stream",
          "text": [
            "[[20 15 30 30]\n",
            " [15 31 32 37]\n",
            " [36 29 32 13]\n",
            " [37 18 28 17]]\n"
          ],
          "name": "stdout"
        }
      ]
    },
    {
      "metadata": {
        "id": "_AZ2GOpunzRH",
        "colab_type": "code",
        "colab": {
          "base_uri": "https://localhost:8080/",
          "height": 34
        },
        "outputId": "7a733533-8aa4-4fbf-e679-06eaf1e79a46"
      },
      "cell_type": "code",
      "source": [
        "#11\n",
        "print(c+15)"
      ],
      "execution_count": 32,
      "outputs": [
        {
          "output_type": "stream",
          "text": [
            "[39 18 32 22 26 17 36 17 39 33 18 26 29 40 17 35]\n"
          ],
          "name": "stdout"
        }
      ]
    },
    {
      "metadata": {
        "id": "h4Yc01L9n21X",
        "colab_type": "code",
        "colab": {
          "base_uri": "https://localhost:8080/",
          "height": 34
        },
        "outputId": "0a1b9559-8aeb-404f-85fa-85330d2a72f0"
      },
      "cell_type": "code",
      "source": [
        "#12\n",
        "print(d+15)"
      ],
      "execution_count": 47,
      "outputs": [
        {
          "output_type": "stream",
          "text": [
            "[18 30 39 37 34 39 19 44 21 18 35 16 26 40 41 21]\n"
          ],
          "name": "stdout"
        }
      ]
    },
    {
      "metadata": {
        "id": "p3KIwd9CpHfZ",
        "colab_type": "code",
        "colab": {
          "base_uri": "https://localhost:8080/",
          "height": 85
        },
        "outputId": "dcb77f76-66f0-4d80-b685-a2dc56aac15f"
      },
      "cell_type": "code",
      "source": [
        "#13\n",
        "\n",
        "\n",
        "print((2*a) + (2*b))"
      ],
      "execution_count": 51,
      "outputs": [
        {
          "output_type": "stream",
          "text": [
            "[[ 64  20  72  58]\n",
            " [ 36  82  82  54]\n",
            " [ 62  56  46  38]\n",
            " [108  42  66  52]]\n"
          ],
          "name": "stdout"
        }
      ]
    },
    {
      "metadata": {
        "id": "uR8BDUNypZ7I",
        "colab_type": "code",
        "colab": {
          "base_uri": "https://localhost:8080/",
          "height": 85
        },
        "outputId": "68fe97b4-dcd3-439e-91e0-711fa966df42"
      },
      "cell_type": "code",
      "source": [
        "#14\n",
        "print((a+b) * 3)"
      ],
      "execution_count": 52,
      "outputs": [
        {
          "output_type": "stream",
          "text": [
            "[[ 96  30 108  87]\n",
            " [ 54 123 123  81]\n",
            " [ 93  84  69  57]\n",
            " [162  63  99  78]]\n"
          ],
          "name": "stdout"
        }
      ]
    },
    {
      "metadata": {
        "id": "9E2gNjPQpJ-G",
        "colab_type": "code",
        "colab": {
          "base_uri": "https://localhost:8080/",
          "height": 85
        },
        "outputId": "15e7b59a-9d30-46b5-9333-c96f0d2bded1"
      },
      "cell_type": "code",
      "source": [
        "#15\n",
        "print((a- b + a - b + b) * 4)"
      ],
      "execution_count": 55,
      "outputs": [
        {
          "output_type": "stream",
          "text": [
            "[[ 136   20   48   -8]\n",
            " [  84   76   64 -108]\n",
            " [ -64   -4  -80  116]\n",
            " [ 108   72   48  124]]\n"
          ],
          "name": "stdout"
        }
      ]
    },
    {
      "metadata": {
        "id": "KEkcKpXdpjbO",
        "colab_type": "code",
        "colab": {}
      },
      "cell_type": "code",
      "source": [
        ""
      ],
      "execution_count": 0,
      "outputs": []
    }
  ]
}